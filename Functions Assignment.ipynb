{
 "cells": [
  {
   "cell_type": "markdown",
   "id": "d1a223f5",
   "metadata": {},
   "source": [
    "# ANS 1"
   ]
  },
  {
   "cell_type": "markdown",
   "id": "9189a4a3",
   "metadata": {},
   "source": [
    "def keyword is used to create a function."
   ]
  },
  {
   "cell_type": "code",
   "execution_count": 1,
   "id": "f9eef731",
   "metadata": {},
   "outputs": [],
   "source": [
    "def func():\n",
    "    l=[]\n",
    "    for i in range(1,25):\n",
    "        if i%2 !=0:\n",
    "            l.append(i)\n",
    "            \n",
    "    return l        "
   ]
  },
  {
   "cell_type": "code",
   "execution_count": 2,
   "id": "6857886d",
   "metadata": {},
   "outputs": [
    {
     "name": "stdout",
     "output_type": "stream",
     "text": [
      "[1, 3, 5, 7, 9, 11, 13, 15, 17, 19, 21, 23]\n"
     ]
    }
   ],
   "source": [
    "print(func())"
   ]
  },
  {
   "cell_type": "markdown",
   "id": "56307ab7",
   "metadata": {},
   "source": [
    "# ANS 2"
   ]
  },
  {
   "cell_type": "markdown",
   "id": "47fcba23",
   "metadata": {},
   "source": [
    "The *args syntax allows a function to accept any number of non-keyworded arguments.The **kwargs syntax allows a function to accept any number of keyworded arguments.When **kwargs is used as a parameter in a function definition,it collects all the keyworded arguments passed to the function and stores them as a dictionary."
   ]
  },
  {
   "cell_type": "code",
   "execution_count": 3,
   "id": "d31feb05",
   "metadata": {},
   "outputs": [
    {
     "name": "stdout",
     "output_type": "stream",
     "text": [
      "1\n",
      "2\n",
      "3\n",
      "4\n",
      "5\n"
     ]
    }
   ],
   "source": [
    "def func(*args):\n",
    "    for arg in args:\n",
    "        print(arg)\n",
    "\n",
    "func(1, 2, 3, 4, 5)"
   ]
  },
  {
   "cell_type": "code",
   "execution_count": 4,
   "id": "6eb13d4a",
   "metadata": {},
   "outputs": [
    {
     "name": "stdout",
     "output_type": "stream",
     "text": [
      "fruit: apple\n",
      "color: red\n",
      "quantity: 5\n"
     ]
    }
   ],
   "source": [
    "def func(**kwargs):\n",
    "    for key, value in kwargs.items():\n",
    "        print(f\"{key}: {value}\")\n",
    "\n",
    "func(fruit=\"apple\", color=\"red\", quantity=5)"
   ]
  },
  {
   "cell_type": "markdown",
   "id": "dc19f3ce",
   "metadata": {},
   "source": [
    "# ANS 3"
   ]
  },
  {
   "cell_type": "markdown",
   "id": "cad6152d",
   "metadata": {},
   "source": [
    "In Python, an iterator is an object that allows sequential access to elements of a collection or container, one element at a time. It provides a way to loop over a sequence of values without the need to know the specific details of the underlying data structure."
   ]
  },
  {
   "cell_type": "markdown",
   "id": "893b4cac",
   "metadata": {},
   "source": [
    "To initialize an iterator object in Python, the iter() function is used. It takes an iterable object as an argument and returns an iterator object. The iterable can be a sequence such as a list or a tuple.\n",
    "\n",
    "The method used for iteration with an iterator object is next(). It retrieves the next element from the iterator. Each time next() is called, it advances the iterator and returns the next value."
   ]
  },
  {
   "cell_type": "code",
   "execution_count": 5,
   "id": "ed692e76",
   "metadata": {},
   "outputs": [
    {
     "name": "stdout",
     "output_type": "stream",
     "text": [
      "2\n",
      "4\n",
      "6\n",
      "8\n",
      "10\n"
     ]
    }
   ],
   "source": [
    "l=[2, 4, 6, 8, 10, 12, 14, 16,18,20]\n",
    "iterator=iter(l)\n",
    "\n",
    "print(next(iterator))\n",
    "\n",
    "print(next(iterator))\n",
    "\n",
    "print(next(iterator))\n",
    "\n",
    "print(next(iterator))\n",
    "\n",
    "print(next(iterator))"
   ]
  },
  {
   "cell_type": "markdown",
   "id": "3b2a657c",
   "metadata": {},
   "source": [
    "# ANS 4"
   ]
  },
  {
   "cell_type": "markdown",
   "id": "4616af90",
   "metadata": {},
   "source": [
    "In Python, a generator function is a special type of function that generates a sequence of values using the yield keyword.Unlike regular functions that return a value and then terminate, generator functions can pause their execution and resume it later, allowing them to produce a series of values over time."
   ]
  },
  {
   "cell_type": "code",
   "execution_count": 6,
   "id": "2966ecfc",
   "metadata": {},
   "outputs": [
    {
     "name": "stdout",
     "output_type": "stream",
     "text": [
      "2\n",
      "4\n",
      "6\n",
      "8\n"
     ]
    }
   ],
   "source": [
    "def even_numbers(n):\n",
    "    for i in range(1,n):\n",
    "        if i % 2 == 0:\n",
    "            yield i\n",
    "            \n",
    "even_gen = even_numbers(10)\n",
    "\n",
    "for num in even_gen:\n",
    "    print(num)"
   ]
  },
  {
   "cell_type": "markdown",
   "id": "88f434de",
   "metadata": {},
   "source": [
    "# ANS 5"
   ]
  },
  {
   "cell_type": "code",
   "execution_count": 7,
   "id": "371a31cd",
   "metadata": {},
   "outputs": [
    {
     "name": "stdout",
     "output_type": "stream",
     "text": [
      "2\n",
      "3\n",
      "5\n",
      "7\n",
      "11\n",
      "13\n",
      "17\n",
      "19\n",
      "23\n",
      "29\n",
      "31\n",
      "37\n",
      "41\n",
      "43\n",
      "47\n",
      "53\n",
      "59\n",
      "61\n",
      "67\n",
      "71\n"
     ]
    }
   ],
   "source": [
    "def primes():\n",
    "    num = 2\n",
    "    while True:\n",
    "        if all(num % i != 0 for i in range(2, int(num ** 0.5) + 1)):\n",
    "            yield num\n",
    "        num += 1\n",
    "        if num>1000:\n",
    "            break\n",
    "\n",
    "prime_gen = primes()\n",
    "\n",
    "for _ in range(20):\n",
    "    print(next(prime_gen))"
   ]
  },
  {
   "cell_type": "code",
   "execution_count": null,
   "id": "ec975e18",
   "metadata": {},
   "outputs": [],
   "source": []
  }
 ],
 "metadata": {
  "kernelspec": {
   "display_name": "Python 3 (ipykernel)",
   "language": "python",
   "name": "python3"
  },
  "language_info": {
   "codemirror_mode": {
    "name": "ipython",
    "version": 3
   },
   "file_extension": ".py",
   "mimetype": "text/x-python",
   "name": "python",
   "nbconvert_exporter": "python",
   "pygments_lexer": "ipython3",
   "version": "3.11.2"
  }
 },
 "nbformat": 4,
 "nbformat_minor": 5
}
